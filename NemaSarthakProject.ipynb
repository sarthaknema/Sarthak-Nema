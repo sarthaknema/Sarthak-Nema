{
 "cells": [
  {
   "cell_type": "markdown",
   "id": "5e19c12f",
   "metadata": {},
   "source": [
    "## Calculating the Income tax based on 2020 Federal Income Tax Schedule."
   ]
  },
  {
   "cell_type": "code",
   "execution_count": 12,
   "id": "f2ee7068",
   "metadata": {},
   "outputs": [
    {
     "name": "stdout",
     "output_type": "stream",
     "text": [
      "For a taxable income of $32500, the income tax is $3505\n",
      "For a taxable income of $85400, the income tax is $10368\n",
      "For a taxable income of $325000, the income tax is $66159\n",
      "For a taxable income of $128325, the income tax is $19812\n",
      "For a taxable income of $287600, the income tax is $57183\n",
      "For a taxable income of $628425, the income tax is $392518\n",
      "For a taxable income of $37545, the income tax is $4110\n",
      "For a taxable income of $17800, the income tax is $1780\n",
      "For a taxable income of $454300, the income tax is $108595\n"
     ]
    }
   ],
   "source": [
    "#This program calculates the income tax due for each of the following incomes based on \n",
    "#The US Federal Income Tax for married couples tax schedule\n",
    "\n",
    "\n",
    "income = [32500.00, 85400.00, 325000.00, 128325.00, 287600.00, 628425.00, 37545.00, 17800.00, 454300.00]\n",
    "income_tax = 0\n",
    "\n",
    "for taxable_income in income:                                 #The program to calculate income tax based on\n",
    "    if taxable_income >=0 and taxable_income <= 19750:        #different tax slab rates\n",
    "        income_tax = taxable_income * 0.10\n",
    "    elif taxable_income > 19750 and taxable_income <= 80250:\n",
    "        income_tax = 1975 + ((taxable_income - 19750) * 0.12)\n",
    "    elif taxable_income > 80250 and taxable_income <= 171050:\n",
    "        income_tax = 9235 + ((taxable_income - 80250) * 0.22)\n",
    "    elif taxable_income > 171050 and taxable_income <= 326600:\n",
    "        income_tax = 29211 + ((taxable_income - 171050) * 0.24)\n",
    "    elif taxable_income > 326600 and taxable_income <= 414700:\n",
    "        income_tax = 66543 + ((taxable_income - 326600) * 0.32)\n",
    "    elif taxable_income > 414700 and taxable_income <= 622050:\n",
    "        income_tax = 94735 + ((taxable_income - 414700) * 0.35)\n",
    "    elif taxable_income > 622050:\n",
    "        income_tax = 167308 + ((taxable_income - 19750) * 0.37)\n",
    "        \n",
    "   \n",
    "\n",
    "    #Printing the output\n",
    "    print(\"For a taxable income of ${}, the income tax is ${}\".format(round(taxable_income),round(income_tax)))"
   ]
  }
 ],
 "metadata": {
  "kernelspec": {
   "display_name": "Python 3",
   "language": "python",
   "name": "python3"
  },
  "language_info": {
   "codemirror_mode": {
    "name": "ipython",
    "version": 3
   },
   "file_extension": ".py",
   "mimetype": "text/x-python",
   "name": "python",
   "nbconvert_exporter": "python",
   "pygments_lexer": "ipython3",
   "version": "3.8.8"
  }
 },
 "nbformat": 4,
 "nbformat_minor": 5
}
